{
 "cells": [
  {
   "cell_type": "markdown",
   "metadata": {},
   "source": [
    "# Exploration of YouTube Streams and Pitchfork Reviews"
   ]
  },
  {
   "cell_type": "code",
   "execution_count": 1,
   "metadata": {
    "collapsed": true
   },
   "outputs": [],
   "source": [
    "import boto3\n",
    "from boto3.dynamodb.conditions import Key, Attr\n",
    "import matplotlib.pyplot as plt\n",
    "import numpy as np\n",
    "from itertools import groupby\n",
    "import collections\n",
    "import pandas as pd"
   ]
  },
  {
   "cell_type": "code",
   "execution_count": 2,
   "metadata": {
    "collapsed": true
   },
   "outputs": [],
   "source": [
    "dynamodb = boto3.resource('dynamodb')\n",
    "\n",
    "table = dynamodb.Table(\"pitchfork_reviews\")\n",
    "\n",
    "response = table.scan(\n",
    "        FilterExpression=Attr('albumReleaseYear').lt(3000)\n",
    ")\n",
    "\n",
    "data = []\n",
    "data.extend(response['Items'])\n",
    "\n",
    "# get all data\n",
    "while 'LastEvaluatedKey' in response:\n",
    "  try:\n",
    "    response = table.scan(\n",
    "          ExclusiveStartKey=response['LastEvaluatedKey'],\n",
    "          FilterExpression=Attr('albumReleaseYear').lt(3000)\n",
    "    )\n",
    "    data.extend(response['Items'])\n",
    "  except:\n",
    "    print(\"sleeping...\")\n",
    "    sleep(30)\n"
   ]
  },
  {
   "cell_type": "code",
   "execution_count": 3,
   "metadata": {
    "collapsed": true
   },
   "outputs": [],
   "source": [
    "df = pd.DataFrame(data)"
   ]
  },
  {
   "cell_type": "code",
   "execution_count": 13,
   "metadata": {},
   "outputs": [
    {
     "data": {
      "text/plain": [
       "rating\n",
       "0.0                                [78789, 694084, 10659]\n",
       "0.1                                                  [73]\n",
       "0.2                                         [42655, 2356]\n",
       "0.3                                                [6654]\n",
       "0.4                                        [23674, 13138]\n",
       "0.5                                           [32, 26205]\n",
       "0.6                                                 [359]\n",
       "0.7                                               [7, 14]\n",
       "0.8                                        [2955, 255271]\n",
       "0.9                                                 [149]\n",
       "1.0        [4319, 1693, 8676, 130671, 3545, 7072, 279923]\n",
       "1.2                                  [6301, 2134, 175905]\n",
       "1.3                                               [84299]\n",
       "1.4                                                [4287]\n",
       "1.5         [12291, 1810, 6168, 1696, 896733, 7, 2128409]\n",
       "1.6                                [91240, 216819, 49623]\n",
       "1.7                                        [101346, 4460]\n",
       "1.8                     [7575, 141424, 95597, 22761, 300]\n",
       "1.9     [103593, 58997, 17761, 20, 427500, 507, 113, 1...\n",
       "2.0     [884, 11724, 738, 3841, 85, 1539, 101, 7989, 2...\n",
       "2.1     [1002, 282, 11532767, 236, 2408, 172, 608, 778...\n",
       "2.2        [7064, 1766141, 13444, 1480, 361, 1470, 11848]\n",
       "2.3     [22032, 22170, 24873, 35268, 5064, 116440, 16150]\n",
       "2.4     [179020, 16, 935, 1991, 515478, 183333, 684360...\n",
       "2.5     [26, 105459, 13734, 1150439, 43, 2808, 598, 18...\n",
       "2.6     [525894, 34, 609948, 2550, 23578, 478997, 1476...\n",
       "2.7     [512, 79042, 0, 40036, 4166, 1072, 160712, 81,...\n",
       "2.8     [10244, 132856, 90770, 215315, 10240, 3805, 38...\n",
       "2.9     [216, 26087, 9348, 57964, 229, 187, 4, 971, 13...\n",
       "3.0     [543323, 3187, 349, 37, 5846, 22, 157, 3268954...\n",
       "                              ...                        \n",
       "7.0     [2, 125, 7955, 1822, 820, 17556, 12, 3204, 836...\n",
       "7.1     [0, 43, 67813, 11979, 67, 322086, 70, 1145, 21...\n",
       "7.2     [2, 985781, 169, 92, 250, 16, 191658, 812, 350...\n",
       "7.3     [393, 164, 518, 23320, 819, 16935, 7880, 51705...\n",
       "7.4     [46720, 56, 5270, 28119, 0, 1668, 87992, 421, ...\n",
       "7.5     [50214, 399, 4589, 68388, 1338, 386, 3, 3117, ...\n",
       "7.6     [4584, 56039, 129652, 4570, 184, 1369, 19425, ...\n",
       "7.7     [1049, 20839, 5346, 132, 426, 120, 10019, 0, 4...\n",
       "7.8     [194, 203, 41575, 11095, 2481458, 18622\" dir=\"...\n",
       "7.9     [10861, 15, 3, 9281, 3235517, 238, 2953, 49477...\n",
       "8.0     [9, 835, 65931, 434, 123277, 34, 3055, 248, 30...\n",
       "8.1     [7275, 769837, 82250, 3893, 21771, 70245, 401,...\n",
       "8.2     [241, 145, 2461, 67, 18632, 0, 31, 54521, 5682...\n",
       "8.3     [1513, 4633, 4996, 759, 2126, 87, 83334, 7632,...\n",
       "8.4     [4308, 10685, 36448, 27, 5889, 164778, 5838, 1...\n",
       "8.5     [88, 29911, 18834, 3441, 4013, 631889, 2237, 1...\n",
       "8.6     [166736\" dir=\"ltr\">Guest Host Jennifer Lawrenc...\n",
       "8.7     [216, 44996, 565, 5047, 72863, 5261, 17, 5522,...\n",
       "8.8     [6132, 2617, 1060536, 1742, 7287, 11478, 16385...\n",
       "8.9     [50089, 907710\" dir=\"ltr\">Guest Host Jennifer ...\n",
       "9.0     [352, 3668, 184, 16532, 134, 97024, 1155666, 1...\n",
       "9.1     [188383, 2354, 11901, 0, 172, 70871, 351407, 4...\n",
       "9.2     [2515, 212706, 32412, 27531, 13, 5149, 16146, ...\n",
       "9.3     [107931, 30188, 837004, 537957, 21818, 719964,...\n",
       "9.4     [6236, 176760, 750, 15943, 44342, 75880637, 92...\n",
       "9.5     [579, 36621, 352539, 0, 93290, 1235858, 13, 35...\n",
       "9.6     [15942, 54120, 2541, 34081, 750751, 12446, 164...\n",
       "9.7     [1165936, 39027, 742, 6053, 1114188, 77, 10961...\n",
       "9.8                      [189, 96243, 40279, 20541, 2748]\n",
       "10.0    [592081, 811, 595, 33, 60640, 27514, 219915, 5...\n",
       "Name: viewCount, Length: 99, dtype: object"
      ]
     },
     "execution_count": 13,
     "metadata": {},
     "output_type": "execute_result"
    }
   ],
   "source": [
    "df['rating'] = df['rating'].astype(float) \n",
    "g = df.groupby('rating')\n",
    "g.viewCount.unique()"
   ]
  }
 ],
 "metadata": {
  "kernelspec": {
   "display_name": "Python 3",
   "language": "python",
   "name": "python3"
  },
  "language_info": {
   "codemirror_mode": {
    "name": "ipython",
    "version": 3
   },
   "file_extension": ".py",
   "mimetype": "text/x-python",
   "name": "python",
   "nbconvert_exporter": "python",
   "pygments_lexer": "ipython3",
   "version": "3.5.2"
  }
 },
 "nbformat": 4,
 "nbformat_minor": 2
}
